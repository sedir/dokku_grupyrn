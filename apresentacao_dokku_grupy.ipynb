{
 "cells": [
  {
   "cell_type": "markdown",
   "metadata": {
    "slideshow": {
     "slide_type": "slide"
    }
   },
   "source": [
    "<div style=\"text-align: center\">\n",
    "<h2>Deploy de aplicações Python para web com Dokku</h2>\n",
    "<br />\n",
    "<h4>GruPy-RN. 02/06/2018.</h4>\n",
    "</div>"
   ]
  },
  {
   "cell_type": "markdown",
   "metadata": {
    "slideshow": {
     "slide_type": "slide"
    }
   },
   "source": [
    "<center> <img src=\"img/sedir.png\" /> </center>\n",
    "<div style=\"text-align: center\">\n",
    "<h3>Sedir Morais</h3>\n",
    "</div>\n",
    "\n",
    "<p>\n",
    "Entusiasta de Python 🐍<br />\n",
    "Analista e Desenvolvedor de Sistemas, IFRN<br />\n",
    "Mestre em Engenharia de Computação, UFRN<br />\n",
    "Doutorando em Engenharia de Computação, UFRN<br />\n",
    "Pesquisador no Laboratório de Inovação Tecnológica em Saúde, LAIS/UFRN<br />\n",
    "</p>"
   ]
  },
  {
   "cell_type": "markdown",
   "metadata": {
    "slideshow": {
     "slide_type": "slide"
    }
   },
   "source": [
    "## Deploy"
   ]
  },
  {
   "cell_type": "markdown",
   "metadata": {
    "slideshow": {
     "slide_type": "fragment"
    }
   },
   "source": [
    "#### O que é?\n"
   ]
  },
  {
   "cell_type": "markdown",
   "metadata": {
    "slideshow": {
     "slide_type": "fragment"
    }
   },
   "source": [
    "**Engloba todos os processos envolvidos na instalação e execução de novos softwares** ou hardwares em seu ambiente, incluindo instalação, configuração, execução, teste e alterações necessárias."
   ]
  },
  {
   "cell_type": "markdown",
   "metadata": {
    "slideshow": {
     "slide_type": "subslide"
    }
   },
   "source": [
    "## Deploy"
   ]
  },
  {
   "cell_type": "markdown",
   "metadata": {
    "slideshow": {
     "slide_type": "fragment"
    }
   },
   "source": [
    "#### Como se faz?\n"
   ]
  },
  {
   "cell_type": "markdown",
   "metadata": {
    "slideshow": {
     "slide_type": "fragment"
    }
   },
   "source": [
    "- Configuração manual de ambiente para cada aplicação"
   ]
  },
  {
   "cell_type": "markdown",
   "metadata": {
    "slideshow": {
     "slide_type": "fragment"
    }
   },
   "source": [
    "- Utilização de serviços de terceiros (PaaS - Platform as a Service)"
   ]
  },
  {
   "cell_type": "markdown",
   "metadata": {
    "slideshow": {
     "slide_type": "fragment"
    }
   },
   "source": [
    "- Contêiners/images Docker "
   ]
  },
  {
   "cell_type": "markdown",
   "metadata": {
    "slideshow": {
     "slide_type": "skip"
    }
   },
   "source": [
    "## PaaS\n",
    "\n",
    "### Platform as a Service\n",
    "\n",
    "Categoria de serviços de computação em nuvem que fornece uma plataforma que permite abstrair a infraestrutura associada ao desenvolvimento e ao lançamento de um aplicativo"
   ]
  },
  {
   "cell_type": "markdown",
   "metadata": {
    "slideshow": {
     "slide_type": "skip"
    }
   },
   "source": [
    "## Deploy\n",
    "\n",
    "### Platform as a Service\n",
    "\n",
    "Categoria de serviços de computação em nuvem que fornece uma plataforma que permite abstrair a infraestrutura associada ao desenvolvimento e ao lançamento de um aplicativo"
   ]
  },
  {
   "cell_type": "markdown",
   "metadata": {
    "slideshow": {
     "slide_type": "skip"
    }
   },
   "source": [
    "### Platform as a Service"
   ]
  },
  {
   "cell_type": "markdown",
   "metadata": {
    "slideshow": {
     "slide_type": "skip"
    }
   },
   "source": [
    "Categoria de serviços de computação em nuvem que fornece uma plataforma que permite abstrair a infraestrutura associada ao desenvolvimento e ao lançamento de um aplicativo"
   ]
  },
  {
   "cell_type": "markdown",
   "metadata": {
    "slideshow": {
     "slide_type": "slide"
    }
   },
   "source": [
    "# Agenda\n",
    "\n",
    "- O que é Dokku\n",
    "- Recursos\n",
    "- Workflow\n",
    "- Demonstração prática com aplicação Python/Flask"
   ]
  },
  {
   "cell_type": "markdown",
   "metadata": {
    "slideshow": {
     "slide_type": "slide"
    }
   },
   "source": [
    "# Dokku\n",
    "\n",
    "###  \n",
    "\n",
    "<center> É um mini-Heroku baseado no Docker feito em ~200 linhas de Bash. </center>\n",
    "<center> <img src=\"img/docker_heroku.png\"/> </center>\n"
   ]
  },
  {
   "cell_type": "markdown",
   "metadata": {
    "slideshow": {
     "slide_type": "subslide"
    }
   },
   "source": [
    "Use sua infraestrutura. Um único servidor para abrigar todas as aplicações, independente de linguagem."
   ]
  },
  {
   "cell_type": "markdown",
   "metadata": {
    "slideshow": {
     "slide_type": "fragment"
    }
   },
   "source": [
    "Realize deploys facilmente apenas com o Git."
   ]
  },
  {
   "cell_type": "markdown",
   "metadata": {
    "slideshow": {
     "slide_type": "fragment"
    }
   },
   "source": [
    "Totalmente compatível com o Heroku."
   ]
  },
  {
   "cell_type": "markdown",
   "metadata": {
    "slideshow": {
     "slide_type": "subslide"
    }
   },
   "source": [
    "## Recursos\n",
    "\n",
    "- Suporta diversas tecnologias web através de **buildpacks** (**Python**, Ruby, Node, entre outras);\n",
    "- Deploys com **'zero downtime'**;\n",
    "- **Extensível** através de plugins;\n",
    "- **SSL** via Let's Encrypt;\n",
    "- Banco de dados (MariaDB, PostgreSQL, Redis, Memcached, CouchDB...);\n",
    "- Outros serviços (Elasticsearch)."
   ]
  },
  {
   "cell_type": "markdown",
   "metadata": {
    "slideshow": {
     "slide_type": "subslide"
    }
   },
   "source": [
    "<center> <img src=\"img/dokku-deployment-process-simplified.png\" /> </center>"
   ]
  },
  {
   "cell_type": "markdown",
   "metadata": {
    "slideshow": {
     "slide_type": "notes"
    }
   },
   "source": [
    "## Limitações\n",
    "\n",
    "- Não suporta instalação multiservidor (escalonamento horizontal);\n",
    "- Ausência de interface web de administração;\n",
    "- Falta de ferramentas de monitoramento de recursos (IO, CPU)."
   ]
  },
  {
   "cell_type": "markdown",
   "metadata": {
    "slideshow": {
     "slide_type": "slide"
    }
   },
   "source": [
    "# Demonstração prática\n",
    "\n",
    "## Objetivos\n",
    "\n",
    "- Criar servidor no Digital Ocean e instalar o Dokku\n",
    "\n",
    "- Entender a adaptação de uma aplicação Python/Flask para o Dokku\n",
    "\n",
    "- Realizar deploy da aplicação\n",
    "\n"
   ]
  },
  {
   "cell_type": "markdown",
   "metadata": {
    "slideshow": {
     "slide_type": "subslide"
    }
   },
   "source": [
    "## Requisitos \n",
    "- Servidor Linux:\n",
    "  - Ubuntu 16.04 x64 / Ubuntu 14.04 x64 / Debian 8.2 x64\n",
    "  - 1 GB RAM mínima recomendada\n",
    "  - Domínio próprio (opcional, mas altamente recomendado)\n",
    "    - Ex: sedir.io\n",
    "- Projeto versionado no Git e preparado para o Heroku/Dokku\n",
    "- Chave SSH"
   ]
  },
  {
   "cell_type": "markdown",
   "metadata": {
    "slideshow": {
     "slide_type": "subslide"
    }
   },
   "source": [
    "## Configuração de DNS\n",
    "\n",
    "**DNS - Domain Name Server**\n",
    "\n",
    "Traduz nomes de domínio em endereços IP.\n",
    "\n",
    "Exemplo: "
   ]
  },
  {
   "cell_type": "code",
   "execution_count": 2,
   "metadata": {},
   "outputs": [
    {
     "name": "stdout",
     "output_type": "stream",
     "text": [
      "172.217.29.174\r\n"
     ]
    }
   ],
   "source": [
    "!ping google.com -c 1 | sed -nE 's/^PING[^(]+\\(([^)]+)\\).*/\\1/p'"
   ]
  },
  {
   "cell_type": "code",
   "execution_count": 59,
   "metadata": {},
   "outputs": [
    {
     "name": "stdout",
     "output_type": "stream",
     "text": [
      "172.217.30.100\r\n"
     ]
    }
   ],
   "source": [
    "!ping www.google.com -c 1 | sed -nE 's/^PING[^(]+\\(([^)]+)\\).*/\\1/p'"
   ]
  },
  {
   "cell_type": "markdown",
   "metadata": {
    "slideshow": {
     "slide_type": "subslide"
    }
   },
   "source": [
    "## Configuração de DNS\n",
    "\n",
    "Criar dois registros DNS do tipo A:\n",
    "<center> <img src=\"img/dns.png\" /> </center>\n",
    "\n",
    "O registro com * (wildcard) permite que solicitações de seus subdomínios possam ser processados por meio de um único servidor."
   ]
  },
  {
   "cell_type": "markdown",
   "metadata": {
    "slideshow": {
     "slide_type": "subslide"
    }
   },
   "source": [
    "\n",
    "Exemplo:\n",
    "- meuapp.grupy.sedir.io\n",
    "- meuoutroapp.grupy.sedir.io\n",
    "- superapp.grupy.sedir.io"
   ]
  },
  {
   "cell_type": "markdown",
   "metadata": {
    "slideshow": {
     "slide_type": "subslide"
    }
   },
   "source": [
    "## Configuração de Servidor\n",
    "\n",
    "### Instalação do Dokku\n",
    "\n",
    "```bash\n",
    "wget https://raw.githubusercontent.com/dokku/dokku/v0.12.7/bootstrap.sh\n",
    "sudo DOKKU_TAG=v0.12.7 bash bootstrap.sh\n",
    "```\n",
    "#  \n",
    "Instruções sempre atualizadas em http://dokku.viewdocs.io/dokku/getting-started/installation/"
   ]
  },
  {
   "cell_type": "markdown",
   "metadata": {
    "slideshow": {
     "slide_type": "subslide"
    }
   },
   "source": [
    "## Configuração de Servidor\n",
    "\n",
    "### Configuração inicial do Dokku\n",
    "\n",
    "Usando o browser, acesse o domínio registrado no DNS. Exemplo:  http://grupy.sedir.io\n",
    "\n"
   ]
  },
  {
   "cell_type": "markdown",
   "metadata": {
    "slideshow": {
     "slide_type": "subslide"
    }
   },
   "source": [
    "<center> <img src=\"img/dokku_config2.png\" /> </center>"
   ]
  },
  {
   "cell_type": "markdown",
   "metadata": {
    "slideshow": {
     "slide_type": "subslide"
    }
   },
   "source": [
    "## Configuração de Servidor\n",
    "\n",
    "### Acesso ao console do Dokku"
   ]
  },
  {
   "cell_type": "markdown",
   "metadata": {},
   "source": [
    "Gerencie o Dokku através de comandos pontuais via SSH:\n",
    "\n",
    "```text\n",
    "(local) $ ssh dokku@grupy.sedir.io <args>\n",
    "```\n",
    "\n",
    "**OU**\n",
    "\n",
    "Gerencie o Dokku através de comandos pontuais via SSH:\n",
    "\n",
    "```text\n",
    "(local)  $ ssh usuario@grupy.sedir.io\n",
    "(remoto) $ dokku <args>\n",
    "\n",
    "```"
   ]
  },
  {
   "cell_type": "markdown",
   "metadata": {
    "slideshow": {
     "slide_type": "subslide"
    }
   },
   "source": [
    "## Configuração do projeto Python/Flask\n",
    "\n",
    "Exemplo disponível em https://github.com/sedir/python-sample\n",
    "\n",
    "### Arquivo \"requirements.txt\"\n",
    "- Localizado na raíz do projeto\n",
    "- Deve conter as dependências da aplicação\n",
    "\n",
    "\n",
    "#  \n"
   ]
  },
  {
   "cell_type": "markdown",
   "metadata": {
    "slideshow": {
     "slide_type": "subslide"
    }
   },
   "source": [
    "## Configuração do projeto Python/Flask\n",
    "\n",
    "Exemplo disponível em https://github.com/sedir/python-sample\n",
    "\n",
    "### Arquivo \"Procfile\"\n",
    "- Localizado na raíz do projeto\n",
    "- Deve conter uma ou mais linhas definindo o **tipo de processo** e o **comando para execução** da aplicação\n",
    "\n",
    "```text\n",
    "web: python app.py\n",
    "```\n",
    "#  \n",
    "Observação: A aplicação deve ser preparada para servir arquivos estáticos."
   ]
  },
  {
   "cell_type": "markdown",
   "metadata": {
    "slideshow": {
     "slide_type": "subslide"
    }
   },
   "source": [
    "## Configuração do projeto Python/Flask\n",
    "\n",
    "Exemplo disponível em https://github.com/sedir/python-sample\n",
    "\n",
    "### Arquivo \"runtime.txt\" (opcional)\n",
    "- Localizado na raíz do projeto\n",
    "- Deve conter uma linha com a versão do Python utilizada\n",
    "\n",
    "```text\n",
    "python-2.7.15\n",
    "```\n",
    "**OU**\n",
    "```text\n",
    "python-3.6.5\n",
    "```\n"
   ]
  },
  {
   "cell_type": "markdown",
   "metadata": {
    "slideshow": {
     "slide_type": "subslide"
    }
   },
   "source": [
    "## Configuração do projeto Python/Flask\n",
    "\n",
    "\n",
    "### Inclusão do Dokku como repositório remoto.\n",
    "\n",
    "```bash\n",
    "git remote add dokku dokku@<host>:<nome_do_app>\n",
    "```\n",
    "\n",
    "Exemplo:\n",
    "\n",
    "```bash\n",
    "git remote add dokku dokku@grupy.sedir.io:meuapp\n",
    "```\n",
    "\n",
    "Normalmente, o **nome_do_app** torna-se o subdomínio da aplicação.\n",
    "\n",
    "**meuapp**.grupy.sedir.io"
   ]
  },
  {
   "cell_type": "markdown",
   "metadata": {
    "slideshow": {
     "slide_type": "subslide"
    }
   },
   "source": [
    "## Hora do Deploy!\n",
    "\n",
    "\n",
    "Para submeter as mudanças da **branch master** para o Dokku, execute:\n",
    "\n",
    "```bash\n",
    "git push dokku master\n",
    "```\n",
    "\n",
    "Para submeter as mudanças de **outra branch** para o Dokku, execute:\n",
    "\n",
    "```bash\n",
    "git push dokku outrabranch:master\n",
    "```\n",
    "#  \n",
    "Observação: Defina uma única branch de referência para o Dokku."
   ]
  },
  {
   "cell_type": "markdown",
   "metadata": {
    "slideshow": {
     "slide_type": "slide"
    }
   },
   "source": [
    "<div style=\"text-align: center\">\n",
    "    <h1>Obrigado!</h1>\n",
    "    <br />\n",
    "    <h4>Telegram: <a href=\"https://t.me/sedirm\">@sedirm</a></h4>\n",
    "    <h4>E-mail: <a href=\"mailto:sedir@sedir.io\">sedir@sedir.io</a></h4>\n",
    "</div>\n"
   ]
  }
 ],
 "metadata": {
  "celltoolbar": "Slideshow",
  "kernelspec": {
   "display_name": "Python 3",
   "language": "python",
   "name": "python3"
  },
  "language_info": {
   "codemirror_mode": {
    "name": "ipython",
    "version": 3
   },
   "file_extension": ".py",
   "mimetype": "text/x-python",
   "name": "python",
   "nbconvert_exporter": "python",
   "pygments_lexer": "ipython3",
   "version": "3.6.5"
  },
  "livereveal": {
   "theme": "simple"
  }
 },
 "nbformat": 4,
 "nbformat_minor": 2
}
